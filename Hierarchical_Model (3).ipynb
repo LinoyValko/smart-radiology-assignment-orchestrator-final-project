{
  "nbformat": 4,
  "nbformat_minor": 0,
  "metadata": {
    "colab": {
      "provenance": [],
      "private_outputs": true,
      "gpuType": "T4"
    },
    "kernelspec": {
      "name": "python3",
      "display_name": "Python 3"
    },
    "language_info": {
      "name": "python"
    },
    "accelerator": "GPU",
    "gpuClass": "standard"
  },
  "cells": [
    {
      "cell_type": "markdown",
      "source": [
        "# **Goals**\n",
        "##In this section, our focus was on preparing the data for a hierarchical model intended to cluster patient samples based on shared characteristics. The primary objective was to uncover patterns and similarities without depending on predefined rules that typically serve as ground truth for predictive models since such rules were not consistently available.\n",
        "\n",
        "\n"
      ],
      "metadata": {
        "id": "7M-XzGu5MN7L"
      }
    },
    {
      "cell_type": "code",
      "source": [
        "!pip install pandas\n",
        "import numpy as np\n",
        "from scipy.stats import skewnorm\n",
        "import matplotlib.pyplot as plt\n",
        "import pandas as pd\n",
        "from scipy import linspace\n",
        "from scipy import pi,sqrt,exp\n",
        "from scipy.special import erf\n",
        "from pylab import plot,show\n",
        "import seaborn as sns"
      ],
      "metadata": {
        "id": "nCzfB5Kq7Vd4"
      },
      "execution_count": null,
      "outputs": []
    },
    {
      "cell_type": "code",
      "source": [
        "!pip install google.colab\n",
        "from google.colab import drive\n",
        "drive.mount('/content/d')"
      ],
      "metadata": {
        "id": "BWZcI38J59-F"
      },
      "execution_count": null,
      "outputs": []
    },
    {
      "cell_type": "code",
      "source": [
        "# #Linoy's file path\n",
        "file_path = '/content/d/MyDrive/final_project/Avera_Atlantic_Data.csv'\n",
        "df = pd.read_csv(file_path)"
      ],
      "metadata": {
        "id": "CeZ1-BKM6GaC"
      },
      "execution_count": null,
      "outputs": []
    },
    {
      "cell_type": "code",
      "source": [
        "# # Sahar file path\n",
        "# file_path = '/content/d/MyDrive/Avera_Atlantic_Data.csv'\n",
        "# df = pd.read_csv(file_path, encoding='utf-8-sig')"
      ],
      "metadata": {
        "id": "3XFux5ahgu1S"
      },
      "execution_count": null,
      "outputs": []
    },
    {
      "cell_type": "code",
      "source": [
        "from google.colab import drive\n",
        "drive.mount('/content/drive')"
      ],
      "metadata": {
        "id": "pLQfTqafdNuM"
      },
      "execution_count": null,
      "outputs": []
    },
    {
      "cell_type": "markdown",
      "source": [
        "# **Data Preperation for using a hirarchical model**"
      ],
      "metadata": {
        "id": "o_2LzPy4II9L"
      }
    },
    {
      "cell_type": "code",
      "source": [
        "df['Patient Class'].value_counts()"
      ],
      "metadata": {
        "id": "oYprcADbe-gr"
      },
      "execution_count": null,
      "outputs": []
    },
    {
      "cell_type": "code",
      "source": [
        "#Dropping the target columns and the non numeric column- Exam Description\n",
        "df_copy = df\n",
        "df_copy = df_copy.drop(['Exam Description', 'Avera_Urgency', 'Atlantic_Urgency', 'Average_Urgency'], axis=1)"
      ],
      "metadata": {
        "id": "ofgPDaDXgLet"
      },
      "execution_count": null,
      "outputs": []
    },
    {
      "cell_type": "code",
      "source": [
        "df_copy"
      ],
      "metadata": {
        "id": "nGRAkHxjgVlP"
      },
      "execution_count": null,
      "outputs": []
    },
    {
      "cell_type": "markdown",
      "source": [
        "### **Encoding**"
      ],
      "metadata": {
        "id": "pztiDXbFIq-m"
      }
    },
    {
      "cell_type": "code",
      "source": [
        "# Encoding the df_copy to numeric dataframe\n",
        "from sklearn.preprocessing import LabelEncoder\n",
        "\n",
        "# Create an instance of LabelEncoder\n",
        "encoder = LabelEncoder()\n",
        "\n",
        "# Create an empty dictionary to store the reverse mapping\n",
        "reverse_mapping = {}\n",
        "\n",
        "# Iterate through each column and encode the categorical data\n",
        "for column in ['Tenant DESC', 'Priority', 'Patient Class', 'Modality', 'Body Part', 'Subspecialty']:\n",
        "    encoded_values = encoder.fit_transform(df_copy[column])\n",
        "    df_copy[column] = encoded_values\n",
        "\n",
        "    # Create the reverse mapping for the column\n",
        "    reverse_mapping[column] = {i: category for i, category in enumerate(encoder.classes_)}\n",
        "\n",
        "# Print the encoded dataframe\n",
        "df_copy"
      ],
      "metadata": {
        "id": "TDOqZKM50c0y"
      },
      "execution_count": null,
      "outputs": []
    },
    {
      "cell_type": "code",
      "source": [
        "#Checking for null values\n",
        "df_copy.isna().value_counts()"
      ],
      "metadata": {
        "id": "2GmsZJcvVdP9"
      },
      "execution_count": null,
      "outputs": []
    },
    {
      "cell_type": "markdown",
      "source": [
        "# **Hierarchical model**"
      ],
      "metadata": {
        "id": "8XPOtec1JKAq"
      }
    },
    {
      "cell_type": "code",
      "source": [
        "# This code use the df_copy and one of the methods to calculate the linkage matrix.\n",
        "# Then it applies hierarchical clustering to predict clusters based on a distance threshold,\n",
        "# which is set to the maximum distance between clusters corresponding to 10-15 clusters.\n",
        "# The dendrogram is plotted with truncated branches using truncate_mode='lastp' and p=100,\n",
        "# which means only the last 100 merged clusters are shown.\n",
        "# Show_leaf_counts=True displays the number of samples in each leaf node.\n",
        "\n",
        "import matplotlib.pyplot as plt\n",
        "from scipy.cluster.hierarchy import dendrogram, fcluster, linkage\n",
        "\n",
        "def hierarchical_clustering(df_copy, method, max_d, Cluster_Method):\n",
        "    # Calculate linkage matrix using the specified method\n",
        "    Z = linkage(df_copy, method=method)\n",
        "\n",
        "    # Calculate the maximum distance between clusters corresponding to the specified number of clusters\n",
        "    max_dist = Z[-max_d, 2]\n",
        "\n",
        "    # Predict clusters based on distance threshold\n",
        "    clusters = fcluster(Z, t=max_dist, criterion='distance')\n",
        "\n",
        "    # Add 'Cluster_Ward' column to the original dataframe\n",
        "    df_copy[Cluster_Method] = clusters\n",
        "\n",
        "    # Plot dendrogram with truncated branches\n",
        "    plt.figure(figsize=(15, 10))\n",
        "    plt.title('Hierarchical Clustering Dendrogram Of ' + Cluster_Method )\n",
        "    plt.xlabel('sample index')\n",
        "    plt.ylabel('distance')\n",
        "    dendrogram(Z, truncate_mode='lastp', p=100, show_leaf_counts=True, leaf_rotation=90., leaf_font_size=8.)\n",
        "    plt.show()\n"
      ],
      "metadata": {
        "id": "QZ8peGhXC2qC"
      },
      "execution_count": null,
      "outputs": []
    },
    {
      "cell_type": "code",
      "source": [
        "#WARD\n",
        "hierarchical_clustering(df_copy, method=\"ward\", max_d=50, Cluster_Method='Cluster_Ward')"
      ],
      "metadata": {
        "id": "uHfernZrIBJa"
      },
      "execution_count": null,
      "outputs": []
    },
    {
      "cell_type": "code",
      "source": [
        "df_copy"
      ],
      "metadata": {
        "id": "eQr0WdS6Uh8o"
      },
      "execution_count": null,
      "outputs": []
    },
    {
      "cell_type": "code",
      "source": [
        "#SINGLE\n",
        "hierarchical_clustering(df_copy, method=\"single\", max_d=40, Cluster_Method='Cluster_Single')"
      ],
      "metadata": {
        "id": "qFP47bxdrbJI"
      },
      "execution_count": null,
      "outputs": []
    },
    {
      "cell_type": "code",
      "source": [
        "df_copy"
      ],
      "metadata": {
        "id": "37S4aQmKNZmu"
      },
      "execution_count": null,
      "outputs": []
    },
    {
      "cell_type": "code",
      "source": [
        "#AVERAGE\n",
        "hierarchical_clustering(df_copy, method=\"average\", max_d=50, Cluster_Method='Cluster_Average')"
      ],
      "metadata": {
        "id": "5Q_nAWAPxbkq"
      },
      "execution_count": null,
      "outputs": []
    },
    {
      "cell_type": "code",
      "source": [
        "df_copy"
      ],
      "metadata": {
        "id": "NsQG5Ne2fh3n"
      },
      "execution_count": null,
      "outputs": []
    },
    {
      "cell_type": "code",
      "source": [
        "#COMPLETE\n",
        "hierarchical_clustering(df_copy, method=\"complete\", max_d=45, Cluster_Method='Cluster_Complete')"
      ],
      "metadata": {
        "id": "DXiqz5OhyQci"
      },
      "execution_count": null,
      "outputs": []
    },
    {
      "cell_type": "code",
      "source": [
        "df_copy"
      ],
      "metadata": {
        "id": "79MEL66ofq2j"
      },
      "execution_count": null,
      "outputs": []
    },
    {
      "cell_type": "markdown",
      "source": [
        "### **Decoding**"
      ],
      "metadata": {
        "id": "DYalFyO0Jp3F"
      }
    },
    {
      "cell_type": "code",
      "source": [
        "#Creating a new df with the urgency and cluster columns for the regression and clasification models\n",
        "dfs_to_concat = [df_copy, df['Avera_Urgency'], df['Atlantic_Urgency'], df['Average_Urgency']]\n",
        "concatenated_df = pd.concat(dfs_to_concat, axis=1)\n",
        "concatenated_df\n",
        "\n",
        "concatenated_df.to_csv('data_for_regression_model.csv')\n",
        "\n",
        "# Iterate through each column in the encoded DataFrame\n",
        "for column in df_copy.columns:\n",
        "    if column in reverse_mapping:\n",
        "        # Retrieve the reverse mapping dictionary for the column\n",
        "        mapping = reverse_mapping[column]\n",
        "\n",
        "        # Decode the encoded values using the reverse mapping dictionary\n",
        "        decoded_values = df_copy[column].map(mapping)\n",
        "\n",
        "        # Replace the values in the corresponding column of df_copy with the decoded values\n",
        "        df_copy[column] = decoded_values\n",
        "\n",
        "# Print the modified df_copy DataFrame\n",
        "df_copy"
      ],
      "metadata": {
        "id": "zBxuKZ5y_aEO"
      },
      "execution_count": null,
      "outputs": []
    },
    {
      "cell_type": "code",
      "source": [
        "# Export an Excel file to present the results of each method\n",
        "# Print each method in a different file\n",
        "import pandas as pd\n",
        "\n",
        "def create_file_for_method(df_copy, range_value, cluster_column, output_file='cluster_results.xlsx', df_results=None):\n",
        "    # Create an empty DataFrame to store the cluster results if df_results is not provided\n",
        "    if df_results is None:\n",
        "        df_results = pd.DataFrame()\n",
        "\n",
        "    # Iterate through each cluster\n",
        "    for cluster in range(*range_value):\n",
        "        cluster_data = df_copy[df_copy[cluster_column] == cluster]\n",
        "\n",
        "        # Print the number of samples in the current cluster\n",
        "        num_samples = len(cluster_data)\n",
        "\n",
        "        # Create a dictionary to store the cluster results\n",
        "        cluster_result = {cluster_column: cluster, 'Number of samples': num_samples}\n",
        "\n",
        "        # Iterate through each selected column and print unique string values\n",
        "        for column in ['Tenant DESC', 'Priority', 'Patient Class', 'Modality', 'Body Part', 'Subspecialty']:\n",
        "            unique_values = cluster_data[column].unique()\n",
        "            unique_values = [str(val) for val in unique_values]  # Convert to strings\n",
        "            cluster_result[column] = ', '.join(unique_values)\n",
        "\n",
        "        df_results = df_results.append(cluster_result, ignore_index=True)\n",
        "\n",
        "    # Save the results to an Excel file\n",
        "    df_results.to_excel(output_file, index=False)\n",
        "\n",
        "    return df_results\n"
      ],
      "metadata": {
        "id": "QsAw0R6F9wRm"
      },
      "execution_count": null,
      "outputs": []
    },
    {
      "cell_type": "markdown",
      "source": [
        "# **Visualizations**"
      ],
      "metadata": {
        "id": "4dO31gNpKbUi"
      }
    },
    {
      "cell_type": "markdown",
      "source": [
        "## **Cluster Ward**"
      ],
      "metadata": {
        "id": "-to99Whcmau5"
      }
    },
    {
      "cell_type": "code",
      "source": [
        "# Using the transform function with WARD method and 30 clusters\n",
        "df_ward_results=pd.DataFrame()\n",
        "df_ward_results=create_file_for_method(df_copy, range_value=(1, 51), cluster_column='Cluster_Ward',output_file='cluster_ward_results.xlsx', df_results=df_ward_results)\n"
      ],
      "metadata": {
        "id": "g78wyhz1Qir9"
      },
      "execution_count": null,
      "outputs": []
    },
    {
      "cell_type": "code",
      "source": [
        "# Creating a matrix to visualize the number of each modality in the cluster 'Ward'\n",
        "cluster_modality_ward = df_copy.groupby('Cluster_Ward')['Modality'].value_counts(normalize=True).unstack().fillna(0)\n",
        "cluster_modality_ward"
      ],
      "metadata": {
        "id": "ZSA6JhG756_o"
      },
      "execution_count": null,
      "outputs": []
    },
    {
      "cell_type": "code",
      "source": [
        "# Visualize the results in heatmap\n",
        "sns.heatmap(cluster_modality_ward)\n",
        "plt.title(\"Correlations between modality and cluster Ward\")"
      ],
      "metadata": {
        "id": "38H72zdU7ZB1"
      },
      "execution_count": null,
      "outputs": []
    },
    {
      "cell_type": "code",
      "source": [
        "# Normalized distribution of modality by cluster Ward\n",
        "cluster_modality_ward.loc['all'] = df_copy['Modality'].value_counts(normalize=True).fillna(0)\n",
        "cluster_modality_ward.plot(kind='bar', figsize=(9,3), stacked=True, cmap='tab20b').legend(loc='center left', bbox_to_anchor=(1, 0.5))\n",
        "plt.title(\"Normalized distribution of modality by cluster Ward\")\n",
        "plt.xlabel(\"Cluster Ward\")\n",
        "plt.ylabel(\"%\")"
      ],
      "metadata": {
        "id": "HRjbuuWrgt1Y"
      },
      "execution_count": null,
      "outputs": []
    },
    {
      "cell_type": "code",
      "source": [
        "# Creating a matrix to visualize the number of each patient class in the cluster 'Ward'\n",
        "cluster_pc_ward = df_copy.groupby('Cluster_Ward')['Patient Class'].value_counts(normalize=True).unstack().fillna(0)\n",
        "cluster_pc_ward"
      ],
      "metadata": {
        "id": "S2lnJumyPblX"
      },
      "execution_count": null,
      "outputs": []
    },
    {
      "cell_type": "code",
      "source": [
        "# Visualize the results in barplot\n",
        "cluster_pc_ward.loc['all'] = df_copy['Patient Class'].value_counts(normalize=True).fillna(0)\n",
        "cluster_pc_ward.plot(kind='bar', figsize=(9,3), stacked=True, cmap='tab20b').legend(loc='center left', bbox_to_anchor=(1, 0.5))\n",
        "plt.title(\"Normalized distribution of patient class by cluster Ward\")\n",
        "plt.xlabel(\"Cluster Ward\")\n",
        "plt.ylabel(\"%\")"
      ],
      "metadata": {
        "id": "yvjyTFdlkWNp"
      },
      "execution_count": null,
      "outputs": []
    },
    {
      "cell_type": "code",
      "source": [
        "# Visualize the results in heatmap\n",
        "sns.heatmap(cluster_pc_ward)\n",
        "plt.title(\"Correlations between patient class and cluster Ward\")"
      ],
      "metadata": {
        "id": "e_qpHUSkQ-O0"
      },
      "execution_count": null,
      "outputs": []
    },
    {
      "cell_type": "code",
      "source": [
        "# Creating a matrix to visualize the number of each body part in the cluster 'Ward'\n",
        "cluster_bd_ward = df_copy.groupby('Cluster_Ward')['Body Part'].value_counts(normalize=True).unstack().fillna(0)\n",
        "cluster_bd_ward"
      ],
      "metadata": {
        "id": "7T3pr-rWdFzp"
      },
      "execution_count": null,
      "outputs": []
    },
    {
      "cell_type": "code",
      "source": [
        "# Visualize the results in heatmap\n",
        "sns.heatmap(cluster_bd_ward)\n",
        "plt.title(\"Correlations between of body part and cluster Ward\")"
      ],
      "metadata": {
        "id": "5kF2IJnpdYlJ"
      },
      "execution_count": null,
      "outputs": []
    },
    {
      "cell_type": "code",
      "source": [
        "# Creating a matrix to visualize the number of each subspecialty in the cluster 'Ward'\n",
        "cluster_subs_ward=df_copy.groupby('Cluster_Ward')['Subspecialty'].value_counts(normalize=True).unstack().fillna(0)\n",
        "cluster_subs_ward"
      ],
      "metadata": {
        "id": "eFkBV7tafuEg"
      },
      "execution_count": null,
      "outputs": []
    },
    {
      "cell_type": "code",
      "source": [
        "# Visualize the results in heatmap\n",
        "sns.heatmap(cluster_subs_ward)\n",
        "plt.title(\"Correlations between of subspecialty and cluster Ward\")"
      ],
      "metadata": {
        "id": "v34UYzfxg14b"
      },
      "execution_count": null,
      "outputs": []
    },
    {
      "cell_type": "code",
      "source": [
        "# Visualize the results in barplot\n",
        "cluster_subs_ward.loc['all'] = df_copy['Subspecialty'].value_counts(normalize=True).fillna(0)\n",
        "cluster_subs_ward.plot(kind='bar', figsize=(9,5), stacked=True, cmap='tab20b').legend(loc='center left', bbox_to_anchor=(1, 0.5))\n",
        "plt.title('Normalized distribution of subspecialty by cluster Ward')\n",
        "plt.xlabel(\"Cluster_ward\")\n",
        "plt.ylabel(\"%\")"
      ],
      "metadata": {
        "id": "7bJC2UZshZ_m"
      },
      "execution_count": null,
      "outputs": []
    },
    {
      "cell_type": "code",
      "source": [
        "# Creating a matrix to visualize the number of each Priority in the cluster 'Ward'\n",
        "cluster_P_ward = df_copy.groupby('Cluster_Ward')['Priority'].value_counts(normalize=True).unstack().fillna(0)\n",
        "cluster_P_ward"
      ],
      "metadata": {
        "id": "yIqiyNIaknVj"
      },
      "execution_count": null,
      "outputs": []
    },
    {
      "cell_type": "code",
      "source": [
        "# Visualize the results in heatmap\n",
        "sns.heatmap(cluster_P_ward)\n",
        "plt.title(\"Correlations between priority and cluster Ward\")"
      ],
      "metadata": {
        "id": "_YPGjOS2pauX"
      },
      "execution_count": null,
      "outputs": []
    },
    {
      "cell_type": "code",
      "source": [
        "# Visualize the results in barplot\n",
        "cluster_P_ward.loc['all'] = df_copy['Priority'].value_counts(normalize=True).fillna(0)\n",
        "cluster_P_ward.plot(kind='bar', figsize=(9,3), stacked=True, cmap='tab20b').legend(loc='center left', bbox_to_anchor=(1, 0.5))\n",
        "plt.title(\"Normelized distribution of priority by cluster Ward\")\n",
        "plt.xlabel(\"Cluster Ward\")\n",
        "plt.ylabel(\"%\")"
      ],
      "metadata": {
        "id": "xsSyeQkap1pr"
      },
      "execution_count": null,
      "outputs": []
    },
    {
      "cell_type": "markdown",
      "source": [
        "## **Cluster Single**"
      ],
      "metadata": {
        "id": "hawe_dPClU75"
      }
    },
    {
      "cell_type": "code",
      "source": [
        "# Using the transform function with SINGLE method and 40 clusters\n",
        "df_single_results=pd.DataFrame()\n",
        "df_single_results=create_file_for_method(df_copy, range_value=(1, 41), cluster_column='Cluster_Single', output_file='cluster_single_results.xlsx', df_results=df_single_results)"
      ],
      "metadata": {
        "id": "WTBPr-jMqn9d"
      },
      "execution_count": null,
      "outputs": []
    },
    {
      "cell_type": "code",
      "source": [
        "# Creating a matrix to visualize the number of each modality in the cluster 'Single'\n",
        "cluster_modality_single=df_copy.groupby('Cluster_Single')['Modality'].value_counts(normalize=True).unstack().fillna(0)\n",
        "cluster_modality_single"
      ],
      "metadata": {
        "id": "JSbcA24fjLRi"
      },
      "execution_count": null,
      "outputs": []
    },
    {
      "cell_type": "code",
      "source": [
        "# Visualize the results in heatmap\n",
        "sns.heatmap(cluster_modality_single)\n",
        "plt.title(\"Correlations between modality and cluster Ward\")"
      ],
      "metadata": {
        "id": "uy_VWVovKaG8"
      },
      "execution_count": null,
      "outputs": []
    },
    {
      "cell_type": "code",
      "source": [
        "# Normalized distribution of modality by cluster Single\n",
        "cluster_modality_single.loc['all'] = df_copy['Modality'].value_counts(normalize=True).fillna(0)\n",
        "cluster_modality_single.plot(kind='bar', figsize=(9,3), stacked=True, cmap='tab20b').legend(loc='center left', bbox_to_anchor=(1, 0.5))\n",
        "plt.title(\"Normalized distribution of modality by cluster Single\")\n",
        "plt.xlabel(\"Cluster Single\")\n",
        "plt.ylabel(\"%\")"
      ],
      "metadata": {
        "id": "-K47h0lLyGmk"
      },
      "execution_count": null,
      "outputs": []
    },
    {
      "cell_type": "code",
      "source": [
        "# Creating a matrix to visualize the number of each patient class in the cluster 'Single'\n",
        "cluster_pc_single = df_copy.groupby('Cluster_Single')['Patient Class'].value_counts(normalize=True).unstack().fillna(0)\n",
        "cluster_pc_single"
      ],
      "metadata": {
        "id": "QWgnGpkpRYzm"
      },
      "execution_count": null,
      "outputs": []
    },
    {
      "cell_type": "code",
      "source": [
        "# Visualize the results in barplot\n",
        "cluster_pc_single.loc['all'] = df_copy['Patient Class'].value_counts(normalize=True).fillna(0)\n",
        "cluster_pc_single.plot(kind='bar', figsize=(9,3), stacked=True, cmap='tab20b').legend(loc='center left', bbox_to_anchor=(1, 0.5))\n",
        "plt.title(\"Normalized distribution of patient class by cluster Single\")\n",
        "plt.xlabel(\"Cluster Single\")\n",
        "plt.ylabel(\"%\")"
      ],
      "metadata": {
        "id": "eXSyhLmHZj8y"
      },
      "execution_count": null,
      "outputs": []
    },
    {
      "cell_type": "code",
      "source": [
        "# Visualize the results in heatmap\n",
        "sns.heatmap(cluster_pc_single)\n",
        "plt.title(\"Correlations between patient class and cluster Single\")"
      ],
      "metadata": {
        "id": "SrLw2sU1RxlQ"
      },
      "execution_count": null,
      "outputs": []
    },
    {
      "cell_type": "code",
      "source": [
        "# Creating a matrix to visualize the number of each modality in the cluster 'Single'\n",
        "cluster_bp_single=df_copy.groupby('Cluster_Single')['Body Part'].value_counts(normalize=True).unstack().fillna(0)\n",
        "cluster_bp_single"
      ],
      "metadata": {
        "id": "UgxOUFHNfLX5"
      },
      "execution_count": null,
      "outputs": []
    },
    {
      "cell_type": "code",
      "source": [
        "# Visualize the results in heatmap\n",
        "sns.heatmap(cluster_bp_single)\n",
        "plt.title(\"Correlations between body part and cluster Single\")"
      ],
      "metadata": {
        "id": "-IVNYKwefgIn"
      },
      "execution_count": null,
      "outputs": []
    },
    {
      "cell_type": "code",
      "source": [
        "# Creating a matrix to visualize the number of each subspecialty in the cluster 'Single'\n",
        "cluster_subs_single=df_copy.groupby('Cluster_Single')['Subspecialty'].value_counts(normalize=True).unstack().fillna(0)\n",
        "cluster_subs_single"
      ],
      "metadata": {
        "id": "J77TWFUkiAPv"
      },
      "execution_count": null,
      "outputs": []
    },
    {
      "cell_type": "code",
      "source": [
        "# Visualize the results in heatmap\n",
        "sns.heatmap(cluster_subs_single)\n",
        "plt.title(\"Correlations between subspecialty and cluster Single\")"
      ],
      "metadata": {
        "id": "Bh0csqijiMc7"
      },
      "execution_count": null,
      "outputs": []
    },
    {
      "cell_type": "code",
      "source": [
        "# Visualize the results in barplot\n",
        "cluster_subs_single.loc['all'] = df_copy['Subspecialty'].value_counts(normalize=True).fillna(0)\n",
        "cluster_subs_single.plot(kind='bar', figsize=(9,5), stacked=True, cmap='tab20b').legend(loc='center left', bbox_to_anchor=(1, 0.5))\n",
        "plt.title('Normalized distribution of subspecialty by cluster Single')\n",
        "plt.xlabel(\"Cluster_single\")\n",
        "plt.ylabel(\"%\")"
      ],
      "metadata": {
        "id": "hNgx4JiIiefX"
      },
      "execution_count": null,
      "outputs": []
    },
    {
      "cell_type": "code",
      "source": [
        "# Creating a matrix to visualize the number of each Priority in the cluster 'single'\n",
        "cluster_P_single = df_copy.groupby('Cluster_Single')['Priority'].value_counts(normalize=True).unstack().fillna(0)\n",
        "cluster_P_single"
      ],
      "metadata": {
        "id": "Ycb7asf4nrfl"
      },
      "execution_count": null,
      "outputs": []
    },
    {
      "cell_type": "code",
      "source": [
        "# Visualize the results in heatmap\n",
        "sns.heatmap(cluster_P_single)\n",
        "plt.title(\"Correlations between priority and cluster Single\")"
      ],
      "metadata": {
        "id": "ZWEHvCiQpGxT"
      },
      "execution_count": null,
      "outputs": []
    },
    {
      "cell_type": "code",
      "source": [
        "# Visualize the results in barplot\n",
        "cluster_P_single.loc['all'] = df_copy['Priority'].value_counts(normalize=True).fillna(0)\n",
        "cluster_P_single.plot(kind='bar', figsize=(9,3), stacked=True, cmap='tab20b').legend(loc='center left', bbox_to_anchor=(1, 0.5))\n",
        "plt.title(\"Normelized distribution of priority by cluster Single\")\n",
        "plt.xlabel(\"Cluster Single\")\n",
        "plt.ylabel(\"%\")"
      ],
      "metadata": {
        "id": "t_yDpVahpxbu"
      },
      "execution_count": null,
      "outputs": []
    },
    {
      "cell_type": "markdown",
      "source": [
        "## **Cluster Average**"
      ],
      "metadata": {
        "id": "AaaWfI8slHgR"
      }
    },
    {
      "cell_type": "code",
      "source": [
        "# Using the transform function with AVEREGE method and 28 clusters\n",
        "df_average_results=pd.DataFrame()\n",
        "df_average_results=create_file_for_method(df_copy, range_value=(1, 51), cluster_column='Cluster_Average', output_file='cluster_average_results.xlsx', df_results=df_average_results)"
      ],
      "metadata": {
        "id": "3HUx6G4gx2DU"
      },
      "execution_count": null,
      "outputs": []
    },
    {
      "cell_type": "code",
      "source": [
        "# Creating a matrix to visualize the number of each modality in the cluster 'Average'\n",
        "cluster_modality_average=df_copy.groupby('Cluster_Average')['Modality'].value_counts(normalize=True).unstack().fillna(0)\n",
        "cluster_modality_average"
      ],
      "metadata": {
        "id": "P0BcvdcLK6LH"
      },
      "execution_count": null,
      "outputs": []
    },
    {
      "cell_type": "code",
      "source": [
        "# Visualize the results in heatmap\n",
        "sns.heatmap(cluster_modality_average)\n",
        "plt.title(\"Correlations between modality and cluster Average\")"
      ],
      "metadata": {
        "id": "c602BD39LcwU"
      },
      "execution_count": null,
      "outputs": []
    },
    {
      "cell_type": "code",
      "source": [
        "# Normalized distribution of modality by cluster Average\n",
        "cluster_modality_average.loc['all'] = df_copy['Modality'].value_counts(normalize=True).fillna(0)\n",
        "cluster_modality_average.plot(kind='bar', figsize=(9,3), stacked=True, cmap='tab20b').legend(loc='center left', bbox_to_anchor=(1, 0.5))\n",
        "plt.title(\"Normalized distribution of modality by cluster Average\")\n",
        "plt.xlabel(\"Cluster Average\")\n",
        "plt.ylabel(\"%\")"
      ],
      "metadata": {
        "id": "IErXTP3a7Qod"
      },
      "execution_count": null,
      "outputs": []
    },
    {
      "cell_type": "code",
      "source": [
        "# Creating a matrix to visualize the number of each patient class in the cluster 'Average'\n",
        "cluster_pc_average = df_copy.groupby('Cluster_Average')['Patient Class'].value_counts(normalize=True).unstack().fillna(0)\n",
        "cluster_pc_average"
      ],
      "metadata": {
        "id": "llTnh4RESD28"
      },
      "execution_count": null,
      "outputs": []
    },
    {
      "cell_type": "code",
      "source": [
        "# Visualize the results in barplot\n",
        "cluster_pc_average.loc['all'] = df_copy['Patient Class'].value_counts(normalize=True).fillna(0)\n",
        "cluster_pc_average.plot(kind='bar', figsize=(9,3), stacked=True, cmap='tab20b').legend(loc='center left', bbox_to_anchor=(1, 0.5))\n",
        "plt.title('Normalized distribution of patient class by cluster Average')\n",
        "plt.xlabel(\"Cluster_average\")\n",
        "plt.ylabel(\"%\")"
      ],
      "metadata": {
        "id": "pNZAULBpZRI-"
      },
      "execution_count": null,
      "outputs": []
    },
    {
      "cell_type": "code",
      "source": [
        "# Visualize the results in heatmap\n",
        "sns.heatmap(cluster_pc_average)\n",
        "plt.title(\"Correlations between patient class and cluster Average\")"
      ],
      "metadata": {
        "id": "UwyIwyPmSqaI"
      },
      "execution_count": null,
      "outputs": []
    },
    {
      "cell_type": "code",
      "source": [
        "# Creating a matrix to visualize the number of each body part in the cluster 'Average'\n",
        "cluster_bd_average = df_copy.groupby('Cluster_Average')['Body Part'].value_counts().unstack().fillna(0)\n",
        "cluster_bd_average"
      ],
      "metadata": {
        "id": "jXUlzvJMd9o1"
      },
      "execution_count": null,
      "outputs": []
    },
    {
      "cell_type": "code",
      "source": [
        "# Visualize the results in heatmap\n",
        "sns.heatmap(cluster_bd_average)\n",
        "plt.title(\"Correlations between body part and cluster Average\")"
      ],
      "metadata": {
        "id": "FJdDeM1keHRi"
      },
      "execution_count": null,
      "outputs": []
    },
    {
      "cell_type": "code",
      "source": [
        "# Creating a matrix to visualize the number of each subspecialty in the cluster 'Average'\n",
        "cluster_subs_average=df_copy.groupby('Cluster_Average')['Subspecialty'].value_counts(normalize=True).unstack().fillna(0)\n",
        "cluster_subs_average"
      ],
      "metadata": {
        "id": "5mCY3Bp8i6DG"
      },
      "execution_count": null,
      "outputs": []
    },
    {
      "cell_type": "code",
      "source": [
        "# Visualize the results in heatmap\n",
        "sns.heatmap(cluster_subs_average)\n",
        "plt.title(\"Correlations between subspecialty and cluster Average\")"
      ],
      "metadata": {
        "id": "YC_82dpNjDNL"
      },
      "execution_count": null,
      "outputs": []
    },
    {
      "cell_type": "code",
      "source": [
        "# Visualize the results in barplot\n",
        "cluster_subs_average.loc['all'] = df_copy['Subspecialty'].value_counts(normalize=True).fillna(0)\n",
        "cluster_subs_average.plot(kind='bar', figsize=(9,5), stacked=True, cmap='tab20b').legend(loc='center left', bbox_to_anchor=(1, 0.5))\n",
        "plt.title('Normalized distribution of subspecialty by cluster Average')\n",
        "plt.xlabel(\"Cluster_average\")\n",
        "plt.ylabel(\"%\")"
      ],
      "metadata": {
        "id": "h91xf7aljMRq"
      },
      "execution_count": null,
      "outputs": []
    },
    {
      "cell_type": "code",
      "source": [
        "# Creating a matrix to visualize the number of each Priority in the cluster 'average'\n",
        "cluster_P_average = df_copy.groupby('Cluster_Average')['Priority'].value_counts(normalize=True).unstack().fillna(0)\n",
        "cluster_P_average"
      ],
      "metadata": {
        "id": "UUwy_vIcnr9r"
      },
      "execution_count": null,
      "outputs": []
    },
    {
      "cell_type": "code",
      "source": [
        "# Visualize the results in heatmap\n",
        "sns.heatmap(cluster_P_average)\n",
        "plt.title(\"Correlations between priority and cluster Average\")"
      ],
      "metadata": {
        "id": "lrM1I1GbpJCb"
      },
      "execution_count": null,
      "outputs": []
    },
    {
      "cell_type": "code",
      "source": [
        "# Visualize the results in barplot\n",
        "cluster_P_average.loc['all'] = df_copy['Priority'].value_counts(normalize=True).fillna(0)\n",
        "cluster_P_average.plot(kind='bar', figsize=(9,3), stacked=True, cmap='tab20b').legend(loc='center left', bbox_to_anchor=(1, 0.5))\n",
        "plt.title(\"Normelized distribution of priority by cluster Average\")\n",
        "plt.xlabel(\"Cluster Average\")\n",
        "plt.ylabel(\"%\")"
      ],
      "metadata": {
        "id": "5dJYW374pudN"
      },
      "execution_count": null,
      "outputs": []
    },
    {
      "cell_type": "markdown",
      "source": [
        "## **Cluster Complete**"
      ],
      "metadata": {
        "id": "-8Qa0PZjk5kZ"
      }
    },
    {
      "cell_type": "code",
      "source": [
        "# Using the transform function with COMPLETE method and 45 clusters\n",
        "df_complete_results=pd.DataFrame()\n",
        "df_complete_results=create_file_for_method(df_copy, range_value=(1, 46), cluster_column='Cluster_Complete', output_file='cluster_complete_results.xlsx', df_results=df_complete_results)"
      ],
      "metadata": {
        "id": "J5hJxi7UyEw_"
      },
      "execution_count": null,
      "outputs": []
    },
    {
      "cell_type": "code",
      "source": [
        "# Creating a matrix to visualize the number of each modality in the cluster 'Complete'\n",
        "cluster_modality_complete=df_copy.groupby('Cluster_Complete')['Modality'].value_counts(normalize=True).unstack().fillna(0)\n",
        "cluster_modality_complete"
      ],
      "metadata": {
        "id": "a4p_0CkiO62K"
      },
      "execution_count": null,
      "outputs": []
    },
    {
      "cell_type": "code",
      "source": [
        "# Visualize the results in heatmap\n",
        "sns.heatmap(cluster_modality_complete)\n",
        "plt.title(\"Correlations between modality and cluster Complete\")"
      ],
      "metadata": {
        "id": "cr8WZnDFPFSd"
      },
      "execution_count": null,
      "outputs": []
    },
    {
      "cell_type": "code",
      "source": [
        "# Normalized distribution of modality by cluster Complete\n",
        "cluster_modality_complete.loc['all'] = df_copy['Modality'].value_counts(normalize=True).fillna(0)\n",
        "cluster_modality_complete.plot(kind='bar', figsize=(9,3), stacked=True, cmap='tab20b').legend(loc='center left', bbox_to_anchor=(1, 0.5))\n",
        "plt.title(\"Normalized distribution of modality by cluster Complete\")\n",
        "plt.xlabel(\"Cluster Complete\")\n",
        "plt.ylabel(\"%\")"
      ],
      "metadata": {
        "id": "SwQhHp8v9dsc"
      },
      "execution_count": null,
      "outputs": []
    },
    {
      "cell_type": "code",
      "source": [
        "# Creating a matrix to visualize the number of each patient class in the cluster 'Complete''\n",
        "cluster_pc_complete = df_copy.groupby('Cluster_Complete')['Patient Class'].value_counts(normalize=True).unstack().fillna(0)\n",
        "cluster_pc_complete"
      ],
      "metadata": {
        "id": "exUEPy6rS4Wa"
      },
      "execution_count": null,
      "outputs": []
    },
    {
      "cell_type": "code",
      "source": [
        "# Visualize the results in barplot\n",
        "cluster_pc_complete.loc['all'] = df_copy['Patient Class'].value_counts(normalize=True).fillna(0)\n",
        "cluster_pc_complete.plot(kind='bar', figsize=(9,3), stacked=True, cmap='tab20b').legend(loc='center left', bbox_to_anchor=(1, 0.5))\n",
        "plt.title(\"Normalized distribution of patient class by cluster Complete\")\n",
        "plt.xlabel(\"Cluster Complete\")\n",
        "plt.ylabel(\"%\")"
      ],
      "metadata": {
        "id": "rilrlsGPBGMJ"
      },
      "execution_count": null,
      "outputs": []
    },
    {
      "cell_type": "code",
      "source": [
        "# Visualize the results in heatmap\n",
        "sns.heatmap(cluster_pc_complete)\n",
        "plt.title(\"Correlations between patient class and cluster Complete\")"
      ],
      "metadata": {
        "id": "6K53ZZcNTKVu"
      },
      "execution_count": null,
      "outputs": []
    },
    {
      "cell_type": "code",
      "source": [
        "# Creating a matrix to visualize the number of each body part in the cluster 'Complete'\n",
        "cluster_bd_complete = df_copy.groupby('Cluster_Complete')['Body Part'].value_counts(normalize=True).unstack().fillna(0)\n",
        "cluster_bd_complete"
      ],
      "metadata": {
        "id": "vkiK2sA5eUB1"
      },
      "execution_count": null,
      "outputs": []
    },
    {
      "cell_type": "code",
      "source": [
        "# Visualize the results in heatmap\n",
        "sns.heatmap(cluster_bd_complete)\n",
        "plt.title(\"Correlations between body part and cluster Complete\")"
      ],
      "metadata": {
        "id": "mz0s7Vuweko5"
      },
      "execution_count": null,
      "outputs": []
    },
    {
      "cell_type": "code",
      "source": [
        "# Creating a matrix to visualize the number of each subspecialty in the cluster 'Complete'\n",
        "cluster_subs_complete = df_copy.groupby('Cluster_Complete')['Subspecialty'].value_counts(normalize=True).unstack().fillna(0)\n",
        "cluster_subs_complete"
      ],
      "metadata": {
        "id": "rvoZrXMdeo1L"
      },
      "execution_count": null,
      "outputs": []
    },
    {
      "cell_type": "code",
      "source": [
        "# Visualize the results in heatmap\n",
        "sns.heatmap(cluster_subs_complete)\n",
        "plt.title(\"Correlations between subspecialty and cluster Complete\")"
      ],
      "metadata": {
        "id": "MpxRKLdOkaBN"
      },
      "execution_count": null,
      "outputs": []
    },
    {
      "cell_type": "code",
      "source": [
        "# Visualize the results in barplot\n",
        "cluster_subs_complete.loc['all'] = df_copy['Subspecialty'].value_counts(normalize=True).fillna(0)\n",
        "cluster_subs_complete.plot(kind='bar', figsize=(9,5), stacked=True, cmap='tab20b').legend(loc='center left', bbox_to_anchor=(1, 0.5))\n",
        "plt.title('Normalized distribution of subspecialty by cluster Complete')\n",
        "plt.xlabel(\"Cluster_complete\")\n",
        "plt.ylabel(\"%\")"
      ],
      "metadata": {
        "id": "Khjv83vHDbKk"
      },
      "execution_count": null,
      "outputs": []
    },
    {
      "cell_type": "code",
      "source": [
        "# Creating a matrix to visualize the number of each Priority in the cluster 'complete'\n",
        "cluster_P_complete = df_copy.groupby('Cluster_Complete')['Priority'].value_counts(normalize=True).unstack().fillna(0)\n",
        "cluster_P_complete"
      ],
      "metadata": {
        "id": "DkB8-8ganseJ"
      },
      "execution_count": null,
      "outputs": []
    },
    {
      "cell_type": "code",
      "source": [
        "# Visualize the results in heatmap\n",
        "sns.heatmap(cluster_P_complete)\n",
        "plt.title(\"Correlations between priority and cluster Complete\")"
      ],
      "metadata": {
        "id": "cQeH3bVopLL7"
      },
      "execution_count": null,
      "outputs": []
    },
    {
      "cell_type": "code",
      "source": [
        "# Visualize the results in barplot\n",
        "cluster_P_complete.loc['all'] = df_copy['Priority'].value_counts(normalize=True).fillna(0)\n",
        "cluster_P_complete.plot(kind='bar', figsize=(9,3), stacked=True, cmap='tab20b').legend(loc='center left', bbox_to_anchor=(1, 0.5))\n",
        "plt.title(\"Normelized distribution of priority by cluster Complete\")\n",
        "plt.xlabel(\"Cluster Complete\")\n",
        "plt.ylabel(\"%\")"
      ],
      "metadata": {
        "id": "iTD5pBB7EPHb"
      },
      "execution_count": null,
      "outputs": []
    },
    {
      "cell_type": "markdown",
      "source": [
        "# **Adding the target variable (urgency score)**"
      ],
      "metadata": {
        "id": "T4w9DrMQElDn"
      }
    },
    {
      "cell_type": "code",
      "source": [
        "# Adding the urgency columns to the df\n",
        "df_copy = pd.concat([df_copy, df['Atlantic_Urgency'], df['Avera_Urgency'], df['Average_Urgency']], axis=1)\n",
        "df_copy\n",
        "df_copy.to_csv('data_for_regression_model.csv')"
      ],
      "metadata": {
        "id": "K8Nb6ZpTW0OI"
      },
      "execution_count": null,
      "outputs": []
    },
    {
      "cell_type": "code",
      "source": [
        "# A function to plot the urgencies in a boxplot by cluster, method, and Tenant\n",
        "def plot_urgencies_by_cluster(df_copy, method, Tenant):\n",
        "    # Group the data by the cluster and select the Tenant\n",
        "    grouped_data = df_copy.groupby(method)[Tenant]\n",
        "\n",
        "    # Collect the data for each cluster as a list\n",
        "    data_by_cluster = [grouped_data.get_group(cluster).values for cluster in grouped_data.groups]\n",
        "\n",
        "    # Set the figure size\n",
        "    plt.figure(figsize=(10, 6))  # Adjust the values (width, height) as desired\n",
        "\n",
        "    # Create the box plot\n",
        "    plt.boxplot(data_by_cluster, patch_artist=True)\n",
        "\n",
        "    # Customize the plot\n",
        "    plt.title(f\"Distribution of {Tenant} by {method}\")\n",
        "    plt.xlabel(f\"{method}\")\n",
        "    plt.ylabel(f\"{Tenant}\")\n",
        "\n",
        "    # Set the x-axis tick labels to match the cluster names\n",
        "    plt.xticks(range(1, len(data_by_cluster) + 1), grouped_data.groups)\n",
        "\n",
        "    # Display the plot\n",
        "    plt.show()"
      ],
      "metadata": {
        "id": "mPArSq0g-Bhw"
      },
      "execution_count": null,
      "outputs": []
    },
    {
      "cell_type": "markdown",
      "source": [
        "# **Visualizations with urgency score**"
      ],
      "metadata": {
        "id": "UdSXy7fiLqqV"
      }
    },
    {
      "cell_type": "markdown",
      "source": [
        "## **Cluster Ward**"
      ],
      "metadata": {
        "id": "pSAaO8YCg1C4"
      }
    },
    {
      "cell_type": "code",
      "source": [
        "# Creating a matrix to visualize the number of each urgency in the Tenant Atlantic in the cluster 'Ward'\n",
        "ward_atlantic_urgency= df_copy.groupby('Cluster_Ward')['Atlantic_Urgency'].value_counts(normalize=True).unstack().fillna(0)\n",
        "ward_atlantic_urgency"
      ],
      "metadata": {
        "id": "SBH4EIwQgH3f"
      },
      "execution_count": null,
      "outputs": []
    },
    {
      "cell_type": "code",
      "source": [
        "# Visualize the results in heatmap\n",
        "sns.heatmap(ward_atlantic_urgency)\n",
        "plt.title(\"Correlations between Atlantic urgency and cluster Ward\")"
      ],
      "metadata": {
        "id": "oI_Z7euKgkaw"
      },
      "execution_count": null,
      "outputs": []
    },
    {
      "cell_type": "code",
      "source": [
        "# Use the function to create a boxplot with the disterbution\n",
        "plot_urgencies_by_cluster(df_copy, 'Cluster_Ward', 'Atlantic_Urgency')"
      ],
      "metadata": {
        "id": "PWYZ6ykL-Epw"
      },
      "execution_count": null,
      "outputs": []
    },
    {
      "cell_type": "code",
      "source": [
        "# Normalized distribution of Atlantic urgency by ward cluster\n",
        "ward_atlantic_urgency.loc['all'] = df_copy['Atlantic_Urgency'].value_counts(normalize=True).fillna(0)\n",
        "ax = ward_atlantic_urgency.plot(kind='bar', figsize=(9, 3), stacked=True, cmap='tab20b')\n",
        "plt.title(\"Normalized distribution of Atlantic urgency by cluster Ward\")\n",
        "plt.ylabel('%')\n",
        "ax.legend(loc='center left', bbox_to_anchor=(1, 0.5))\n",
        "plt.show()"
      ],
      "metadata": {
        "id": "3dvS-l_tkDdD"
      },
      "execution_count": null,
      "outputs": []
    },
    {
      "cell_type": "code",
      "source": [
        "# Creating a matrix to visualize the number of each urgency in the Tenant Avera in the cluster 'Ward'\n",
        "ward_avera_urgency= df_copy.groupby('Cluster_Ward')['Avera_Urgency'].value_counts(normalize=True).unstack().fillna(0)\n",
        "ward_avera_urgency"
      ],
      "metadata": {
        "id": "-f3DwLbLhp-m"
      },
      "execution_count": null,
      "outputs": []
    },
    {
      "cell_type": "code",
      "source": [
        "# Visualize the results in heatmap\n",
        "sns.heatmap(ward_avera_urgency)\n",
        "plt.title(\"Correlations between Avera urgency and cluster Ward\")"
      ],
      "metadata": {
        "id": "OSWrRrSwhyFx"
      },
      "execution_count": null,
      "outputs": []
    },
    {
      "cell_type": "code",
      "source": [
        "# Use the function to create a boxplot with the disterbution of Avera's urgencies by ward cluster\n",
        "plot_urgencies_by_cluster(df_copy, 'Cluster_Ward', 'Avera_Urgency')"
      ],
      "metadata": {
        "id": "gbL4fA3Y-MHD"
      },
      "execution_count": null,
      "outputs": []
    },
    {
      "cell_type": "code",
      "source": [
        "# Normalized distribution of Avera urgency by Ward cluster\n",
        "ward_avera_urgency.loc['all'] = df_copy['Avera_Urgency'].value_counts(normalize=True).fillna(0)\n",
        "ax = ward_avera_urgency.plot(kind='bar', figsize=(9, 3), stacked=True, cmap='tab20b')\n",
        "plt.title(\"Normalized distribution of Avera urgency by cluster Ward\")\n",
        "plt.ylabel('%')\n",
        "ax.legend(loc='center left', bbox_to_anchor=(1, 0.5))\n",
        "plt.show()"
      ],
      "metadata": {
        "id": "vnhKinYOki0X"
      },
      "execution_count": null,
      "outputs": []
    },
    {
      "cell_type": "markdown",
      "source": [
        "## **Cluster Single**"
      ],
      "metadata": {
        "id": "-f4mJG-miROt"
      }
    },
    {
      "cell_type": "code",
      "source": [
        "# Creating a matrix to visualize the number of each urgency in the Tenant Atlantic in the cluster 'Single'\n",
        "single_atlantic_urgency= df_copy.groupby('Cluster_Single')['Atlantic_Urgency'].value_counts(normalize=True).unstack().fillna(0)\n",
        "single_atlantic_urgency"
      ],
      "metadata": {
        "id": "RSUJAJ8hh4sB"
      },
      "execution_count": null,
      "outputs": []
    },
    {
      "cell_type": "code",
      "source": [
        "# Visualize the results in heatmap\n",
        "sns.heatmap(single_atlantic_urgency)\n",
        "plt.title(\"Correlations between Atlantic urgency and cluster Single\")"
      ],
      "metadata": {
        "id": "UfpZL3ejiITY"
      },
      "execution_count": null,
      "outputs": []
    },
    {
      "cell_type": "code",
      "source": [
        "# Use the function to create a boxplot with the disterbution of Atlantic urgency by Single cluster\n",
        "plot_urgencies_by_cluster(df_copy, 'Cluster_Single', 'Atlantic_Urgency')"
      ],
      "metadata": {
        "id": "_9IS5J6e-Rha"
      },
      "execution_count": null,
      "outputs": []
    },
    {
      "cell_type": "code",
      "source": [
        "# Normalized distribution of Atlantic urgency by Single cluster\n",
        "single_atlantic_urgency.loc['all'] = df_copy['Atlantic_Urgency'].value_counts(normalize=True).fillna(0)\n",
        "ax = single_atlantic_urgency.plot(kind='bar', figsize=(9, 3), stacked=True, cmap='tab20b')\n",
        "plt.title(\"Normalized distribution of Atlantic urgency by cluster Single\")\n",
        "plt.ylabel('%')\n",
        "ax.legend(loc='center left', bbox_to_anchor=(1, 0.5))\n",
        "plt.show()"
      ],
      "metadata": {
        "id": "sVmjhKx8hIle"
      },
      "execution_count": null,
      "outputs": []
    },
    {
      "cell_type": "code",
      "source": [
        "# Creating a matrix to visualize the number of each urgency in the Tenant Avera in the cluster 'Single'\n",
        "single_avera_urgency= df_copy.groupby('Cluster_Single')['Avera_Urgency'].value_counts(normalize=True).unstack().fillna(0)\n",
        "single_avera_urgency"
      ],
      "metadata": {
        "id": "hR3eYT31iapC"
      },
      "execution_count": null,
      "outputs": []
    },
    {
      "cell_type": "code",
      "source": [
        "# Visualize the results in heatmap\n",
        "sns.heatmap(single_avera_urgency)\n",
        "plt.title(\"Correlations between Avera urgency and cluster Single\")"
      ],
      "metadata": {
        "id": "no74aOpJifqW"
      },
      "execution_count": null,
      "outputs": []
    },
    {
      "cell_type": "code",
      "source": [
        "# Use the function to create a boxplot with the disterbution of Avera urgency by cluster Single\n",
        "plot_urgencies_by_cluster(df_copy, 'Cluster_Single', 'Avera_Urgency')"
      ],
      "metadata": {
        "id": "eYkTsZ9L-XAw"
      },
      "execution_count": null,
      "outputs": []
    },
    {
      "cell_type": "code",
      "source": [
        "# Normalized distribution of Avera urgency by Single cluster\n",
        "single_avera_urgency.loc['all'] = df_copy['Avera_Urgency'].value_counts(normalize=True).fillna(0)\n",
        "ax = single_avera_urgency.plot(kind='bar', figsize=(9, 3), stacked=True, cmap='tab20b')\n",
        "plt.title(\"Normalized distribution of Avera urgency by cluster Single\")\n",
        "plt.ylabel('%')\n",
        "ax.legend(loc='center left', bbox_to_anchor=(1, 0.5))\n",
        "plt.show()"
      ],
      "metadata": {
        "id": "e7GqwkrAh4NL"
      },
      "execution_count": null,
      "outputs": []
    },
    {
      "cell_type": "markdown",
      "source": [
        "## **Cluster Average**"
      ],
      "metadata": {
        "id": "5BUY1Th0imds"
      }
    },
    {
      "cell_type": "code",
      "source": [
        "# Creating a matrix to visualize the number of each urgency in the Tenant Avera in the cluster 'Average'\n",
        "average_atlantic_urgency= df_copy.groupby('Cluster_Average')['Atlantic_Urgency'].value_counts(normalize=True).unstack().fillna(0)\n",
        "average_atlantic_urgency"
      ],
      "metadata": {
        "id": "UHyQeU6tjDYV"
      },
      "execution_count": null,
      "outputs": []
    },
    {
      "cell_type": "code",
      "source": [
        "# Visualize the results in heatmap\n",
        "sns.heatmap(average_atlantic_urgency)\n",
        "plt.title(\"Correlations between Atlantic urgency and cluster Average\")"
      ],
      "metadata": {
        "id": "HhKN9t22jQws"
      },
      "execution_count": null,
      "outputs": []
    },
    {
      "cell_type": "code",
      "source": [
        "# Use the function to create a boxplot with the disterbution of Atlantic urgency by cluster Average\n",
        "plot_urgencies_by_cluster(df_copy, 'Cluster_Average', 'Atlantic_Urgency')"
      ],
      "metadata": {
        "id": "PlkwwZkI-ke3"
      },
      "execution_count": null,
      "outputs": []
    },
    {
      "cell_type": "code",
      "source": [
        "# Normalized distribution of Atlantic urgency by Average cluster\n",
        "average_atlantic_urgency.loc['all'] = df_copy['Atlantic_Urgency'].value_counts(normalize=True).fillna(0)\n",
        "ax = average_atlantic_urgency.plot(kind='bar', figsize=(9, 3), stacked=True, cmap='tab20b')\n",
        "plt.title(\"Normalized distribution of Atlantic urgency by cluster Average\")\n",
        "plt.ylabel('%')\n",
        "ax.legend(loc='center left', bbox_to_anchor=(1, 0.5))\n",
        "plt.show()"
      ],
      "metadata": {
        "id": "U0aGQqjGiH6T"
      },
      "execution_count": null,
      "outputs": []
    },
    {
      "cell_type": "code",
      "source": [
        "# Creating a matrix to visualize the number of each urgency in the Tenant Avera in the cluster 'Average'\n",
        "average_avera_urgency= df_copy.groupby('Cluster_Average')['Avera_Urgency'].value_counts(normalize=True).unstack().fillna(0)\n",
        "average_avera_urgency"
      ],
      "metadata": {
        "id": "r73kEh_bkomD"
      },
      "execution_count": null,
      "outputs": []
    },
    {
      "cell_type": "code",
      "source": [
        "# Visualize the results in heatmap\n",
        "sns.heatmap(average_avera_urgency)\n",
        "plt.title(\"Correlations between Avera urgency and cluster Average\")"
      ],
      "metadata": {
        "id": "btNHHCNUkuhA"
      },
      "execution_count": null,
      "outputs": []
    },
    {
      "cell_type": "code",
      "source": [
        "# Use the function to create a boxplot with the disterbution of Avera urgency by cluster Average\n",
        "plot_urgencies_by_cluster(df_copy, 'Cluster_Average', 'Avera_Urgency')"
      ],
      "metadata": {
        "id": "nt_iRDJm-reU"
      },
      "execution_count": null,
      "outputs": []
    },
    {
      "cell_type": "code",
      "source": [
        "# Normalized distribution of Avera urgency by Average cluster\n",
        "average_avera_urgency.loc['all'] = df_copy['Avera_Urgency'].value_counts(normalize=True).fillna(0)\n",
        "ax = average_avera_urgency.plot(kind='bar', figsize=(9, 3), stacked=True, cmap='tab20b')\n",
        "plt.title(\"Normalized distribution of Avera urgency by cluster Average\")\n",
        "plt.ylabel('%')\n",
        "ax.legend(loc='center left', bbox_to_anchor=(1, 0.5))\n",
        "plt.show()"
      ],
      "metadata": {
        "id": "SniXBrW1ieWD"
      },
      "execution_count": null,
      "outputs": []
    },
    {
      "cell_type": "markdown",
      "source": [
        "## **Cluster Complete**"
      ],
      "metadata": {
        "id": "TLt9MFn0dZYo"
      }
    },
    {
      "cell_type": "code",
      "source": [
        "# Creating a matrix to visualize the number of each urgency in the Tenant Atlantic in the cluster 'Complete'\n",
        "complete_atlantic_urgency= df_copy.groupby('Cluster_Complete')['Atlantic_Urgency'].value_counts(normalize=True).unstack().fillna(0)\n",
        "complete_atlantic_urgency"
      ],
      "metadata": {
        "id": "P25JPdk_eWwe"
      },
      "execution_count": null,
      "outputs": []
    },
    {
      "cell_type": "code",
      "source": [
        "# Visualize the results in heatmap\n",
        "sns.heatmap(complete_atlantic_urgency)\n",
        "plt.title(\"Correlations between Atlantic urgency and cluster Complete\")"
      ],
      "metadata": {
        "id": "koEuJyYCbvNT"
      },
      "execution_count": null,
      "outputs": []
    },
    {
      "cell_type": "code",
      "source": [
        "# Use the function to create a boxplot with the disterbution of Atlantic urgency by cluster Complete\n",
        "plot_urgencies_by_cluster(df_copy, 'Cluster_Complete', 'Atlantic_Urgency')"
      ],
      "metadata": {
        "id": "733oHccm-wLz"
      },
      "execution_count": null,
      "outputs": []
    },
    {
      "cell_type": "code",
      "source": [
        "# Normalized distribution of Atlantic urgency by Complete cluster\n",
        "complete_atlantic_urgency.loc['all'] = df_copy['Atlantic_Urgency'].value_counts(normalize=True).fillna(0)\n",
        "ax = complete_atlantic_urgency.plot(kind='bar', figsize=(9, 3), stacked=True, cmap='tab20b')\n",
        "plt.title(\"Normalized distribution of Atlantic urgency by cluster Complete\")\n",
        "plt.ylabel('%')\n",
        "ax.legend(loc='center left', bbox_to_anchor=(1, 0.5))\n",
        "plt.show()"
      ],
      "metadata": {
        "id": "UzdpvnupioKr"
      },
      "execution_count": null,
      "outputs": []
    },
    {
      "cell_type": "code",
      "source": [
        "# Creating a matrix to visualize the number of each urgency in the Tenant Avera in the cluster 'Complete'\n",
        "complete_avera_urgency= df_copy.groupby('Cluster_Complete')['Avera_Urgency'].value_counts(normalize=True).unstack().fillna(0)\n",
        "complete_avera_urgency"
      ],
      "metadata": {
        "id": "J32LHPZmfvvS"
      },
      "execution_count": null,
      "outputs": []
    },
    {
      "cell_type": "code",
      "source": [
        "# Visualize the results in heatmap\n",
        "sns.heatmap(complete_avera_urgency)\n",
        "plt.title(\"Correlations between Avera urgency and cluster Complete\")"
      ],
      "metadata": {
        "id": "rnqIIg1glBwg"
      },
      "execution_count": null,
      "outputs": []
    },
    {
      "cell_type": "code",
      "source": [
        "# Use the function to create a boxplot with the disterbution\n",
        "plot_urgencies_by_cluster(df_copy, 'Cluster_Complete', 'Avera_Urgency')"
      ],
      "metadata": {
        "id": "v-denQZu-0bb"
      },
      "execution_count": null,
      "outputs": []
    },
    {
      "cell_type": "code",
      "source": [
        "# Normalized distribution of Avera urgency by Complete cluster\n",
        "complete_avera_urgency.loc['all'] = df_copy['Avera_Urgency'].value_counts(normalize=True).fillna(0)\n",
        "ax = complete_avera_urgency.plot(kind='bar', figsize=(9, 3), stacked=True, cmap='tab20b')\n",
        "plt.title(\"Normalized distribution of Avera urgency by cluster Complete\")\n",
        "plt.ylabel('%')\n",
        "ax.legend(loc='center left', bbox_to_anchor=(1, 0.5))\n",
        "plt.show()"
      ],
      "metadata": {
        "id": "3sfIxpbci1Hq"
      },
      "execution_count": null,
      "outputs": []
    },
    {
      "cell_type": "code",
      "source": [
        "df_copy.to_csv('data_for_regression_model_textual.csv')"
      ],
      "metadata": {
        "id": "-ZFCh-AUF3zo"
      },
      "execution_count": null,
      "outputs": []
    }
  ]
}